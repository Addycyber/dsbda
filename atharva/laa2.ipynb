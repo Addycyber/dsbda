{
 "cells": [
  {
   "cell_type": "code",
   "execution_count": null,
   "id": "0954ae46-2c94-4c46-bc86-f80c7bca0ef6",
   "metadata": {},
   "outputs": [],
   "source": [
    "# 1. Import necessary libraries\n",
    "import pandas as pd\n",
    "import numpy as np\n",
    "import matplotlib.pyplot as plt\n",
    "\n",
    "# 2. Define missing value formats and read the dataset\n",
    "missing_value_formats = [\"n.a.\", \"?\", \"NA\", \"n/a\", \"na\", \"--\"]\n",
    "df = pd.read_csv(\"academic_data.csv\", na_values=missing_value_formats)\n",
    "\n",
    "# 3. View the first few rows of the dataset\n",
    "print(\"First 5 rows:\\n\", df.head())\n",
    "\n",
    "# 4. Check for nulls in 'Gender' column\n",
    "print(\"\\nGender column:\\n\", df['Gender'].head(10))\n",
    "print(\"\\nIs Null:\\n\", df['Gender'].isnull().head(10))\n",
    "print(\"\\nIs Not Null:\\n\", df['Gender'].notnull().head(10))\n",
    "\n",
    "# 5. Filter rows where 'Gender' is NOT null\n",
    "null_filter = df['Gender'].notnull()\n",
    "print(\"\\nRows with Gender not null:\\n\", df[null_filter])\n",
    "\n",
    "# 6. Drop rows/columns with missing values\n",
    "df.dropna(axis=0, inplace=True)  # drop rows with any null value\n",
    "# Alternative options:\n",
    "# df.dropna(axis=0, how='all')     # Drop rows where all values are null\n",
    "# df.dropna(axis=1, how='any')     # Drop columns with any nulls\n",
    "# df.dropna(axis=1, how='all')     # Drop columns with all nulls\n",
    "\n",
    "# 7. Fill missing values\n",
    "df['SPOS'].fillna(0, inplace=True)                         # Fill SPOS nulls with 0\n",
    "df['DSBDA'].fillna(method='pad', inplace=True)             # Forward fill for DSBDA\n",
    "df['SPOS'].fillna(method='bfill', inplace=True)            # Backward fill for SPOS\n",
    "\n",
    "# 8. Detect outliers using box plot\n",
    "plt.boxplot(df['SPOS'])\n",
    "plt.title(\"Boxplot of SPOS\")\n",
    "plt.show()\n"
   ]
  }
 ],
 "metadata": {
  "kernelspec": {
   "display_name": "Python 3 (ipykernel)",
   "language": "python",
   "name": "python3"
  },
  "language_info": {
   "codemirror_mode": {
    "name": "ipython",
    "version": 3
   },
   "file_extension": ".py",
   "mimetype": "text/x-python",
   "name": "python",
   "nbconvert_exporter": "python",
   "pygments_lexer": "ipython3",
   "version": "3.12.7"
  }
 },
 "nbformat": 4,
 "nbformat_minor": 5
}
