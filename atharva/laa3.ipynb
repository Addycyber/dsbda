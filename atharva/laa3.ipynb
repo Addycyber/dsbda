{
 "cells": [
  {
   "cell_type": "code",
   "execution_count": null,
   "id": "3ff8c5ce-9acb-479f-83e8-8cbd52f6fa80",
   "metadata": {},
   "outputs": [],
   "source": [
    "import pandas as pd\n",
    "\n",
    "# Load dataset\n",
    "df = pd.read_csv(\"loan.csv\")\n",
    "\n",
    "# Convert income column to numeric (remove $)\n",
    "df['Total_Income'] = df['Total_Income'].astype(str).replace('[\\$,]', '', regex=True).astype(float)\n",
    "\n",
    "# 1. Summary statistics\n",
    "summary = df.describe()\n",
    "print(\"Overall Summary:\\n\", summary)\n",
    "\n",
    "# 2. Summary by Gender\n",
    "gender_grouped = df.groupby(\"Gender\")[\"LoanAmount\"].agg(['mean', 'median', 'min', 'max', 'std'])\n",
    "print(\"\\nSummary Statistics by Gender:\\n\", gender_grouped)\n",
    "\n",
    "# 3. Summary by Self-Employed\n",
    "selfemp_grouped = df.groupby(\"Self_Employed\")[\"LoanAmount\"].agg(['mean', 'median', 'min', 'max', 'std'])\n",
    "print(\"\\nSummary by Self_Employed Status:\\n\", selfemp_grouped)\n"
   ]
  },
  {
   "cell_type": "code",
   "execution_count": null,
   "id": "546d89a1-985c-4438-a458-9ed14e348150",
   "metadata": {},
   "outputs": [],
   "source": [
    "# Load Iris Dataset\n",
    "data = pd.read_csv(\"Iris.csv\")\n",
    "\n",
    "# Describe each species\n",
    "for species in data['Species'].unique():\n",
    "    print(f\"\\nStatistics for {species}\")\n",
    "    print(data[data['Species'] == species].describe())\n"
   ]
  }
 ],
 "metadata": {
  "kernelspec": {
   "display_name": "Python 3 (ipykernel)",
   "language": "python",
   "name": "python3"
  },
  "language_info": {
   "codemirror_mode": {
    "name": "ipython",
    "version": 3
   },
   "file_extension": ".py",
   "mimetype": "text/x-python",
   "name": "python",
   "nbconvert_exporter": "python",
   "pygments_lexer": "ipython3",
   "version": "3.12.7"
  }
 },
 "nbformat": 4,
 "nbformat_minor": 5
}
