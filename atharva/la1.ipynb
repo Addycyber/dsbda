{
 "cells": [
  {
   "cell_type": "code",
   "execution_count": 5,
   "id": "bcce556a-3c40-455e-8b02-3d82246f782d",
   "metadata": {},
   "outputs": [],
   "source": [
    "# 1. Import Required Libraries\n",
    "import pandas as pd\n",
    "import numpy as np\n",
    "\n",
    "# 2. Load Dataset\n",
    "df = pd.read_csv('data.csv')"
   ]
  },
  {
   "cell_type": "code",
   "execution_count": 6,
   "id": "9dc63ddc-7ab8-47a9-8ce4-f19455d5f545",
   "metadata": {},
   "outputs": [
    {
     "name": "stdout",
     "output_type": "stream",
     "text": [
      "First 5 rows:\n",
      "    Age        BMI  Glucose  Insulin      HOMA   Leptin  Adiponectin  Resistin  \\\n",
      "0   48  23.500000       70    2.707  0.467409   8.8071     9.702400   7.99585   \n",
      "1   83  20.690495       92    3.115  0.706897   8.8438     5.429285   4.06405   \n",
      "2   82  23.124670       91    4.498  1.009651  17.9393    22.432040   9.27715   \n",
      "3   68  21.367521       77    3.226  0.612725   9.8827     7.169560  12.76600   \n",
      "4   86  21.111111       92    3.549  0.805386   6.6994     4.819240  10.57635   \n",
      "\n",
      "     MCP.1 Classification  \n",
      "0  417.114              1  \n",
      "1  468.786              1  \n",
      "2  554.697              1  \n",
      "3  928.220              1  \n",
      "4  773.920              1  \n",
      "\n",
      "Dataset Shape: (116, 10)\n",
      "\n",
      "Column Names: Index(['Age', 'BMI', 'Glucose', 'Insulin', 'HOMA', 'Leptin', 'Adiponectin',\n",
      "       'Resistin', 'MCP.1', 'Classification'],\n",
      "      dtype='object')\n",
      "\n",
      "Missing Values:\n",
      " Age               0\n",
      "BMI               0\n",
      "Glucose           0\n",
      "Insulin           0\n",
      "HOMA              0\n",
      "Leptin            0\n",
      "Adiponectin       0\n",
      "Resistin          0\n",
      "MCP.1             0\n",
      "Classification    0\n",
      "dtype: int64\n",
      "\n",
      "Summary Statistics:\n",
      "               Age         BMI     Glucose     Insulin        HOMA      Leptin  \\\n",
      "count  116.000000  116.000000  116.000000  116.000000  116.000000  116.000000   \n",
      "mean    57.301724   27.582111   97.793103   10.012086    2.694988   26.615080   \n",
      "std     16.112766    5.020136   22.525162   10.067768    3.642043   19.183294   \n",
      "min     24.000000   18.370000   60.000000    2.432000    0.467409    4.311000   \n",
      "25%     45.000000   22.973205   85.750000    4.359250    0.917966   12.313675   \n",
      "50%     56.000000   27.662416   92.000000    5.924500    1.380939   20.271000   \n",
      "75%     71.000000   31.241442  102.000000   11.189250    2.857787   37.378300   \n",
      "max     89.000000   38.578759  201.000000   58.460000   25.050342   90.280000   \n",
      "\n",
      "       Adiponectin    Resistin        MCP.1  \n",
      "count   116.000000  116.000000   116.000000  \n",
      "mean     10.180874   14.725966   534.647000  \n",
      "std       6.843341   12.390646   345.912663  \n",
      "min       1.656020    3.210000    45.843000  \n",
      "25%       5.474283    6.881763   269.978250  \n",
      "50%       8.352692   10.827740   471.322500  \n",
      "75%      11.815970   17.755207   700.085000  \n",
      "max      38.040000   82.100000  1698.440000  \n",
      "\n",
      "Data Types:\n",
      " Age                 int64\n",
      "BMI               float64\n",
      "Glucose             int64\n",
      "Insulin           float64\n",
      "HOMA              float64\n",
      "Leptin            float64\n",
      "Adiponectin       float64\n",
      "Resistin          float64\n",
      "MCP.1             float64\n",
      "Classification     object\n",
      "dtype: object\n"
     ]
    }
   ],
   "source": [
    "# 3. Initial Exploration\n",
    "print(\"First 5 rows:\\n\", df.head())\n",
    "print(\"\\nDataset Shape:\", df.shape)\n",
    "print(\"\\nColumn Names:\", df.columns)\n",
    "\n",
    "# 4. Check for Missing Values\n",
    "print(\"\\nMissing Values:\\n\", df.isnull().sum())\n",
    "\n",
    "# 5. Get Summary Statistics\n",
    "print(\"\\nSummary Statistics:\\n\", df.describe())\n",
    "\n",
    "# 6. Variable Descriptions and Data Types\n",
    "print(\"\\nData Types:\\n\", df.dtypes)\n"
   ]
  },
  {
   "cell_type": "code",
   "execution_count": 7,
   "id": "6f3a6f3c-d933-4988-a115-51328bc249d0",
   "metadata": {},
   "outputs": [
    {
     "name": "stdout",
     "output_type": "stream",
     "text": [
      "\n",
      "Data after encoding:\n",
      "    Age        BMI  Glucose  Insulin      HOMA   Leptin  Adiponectin  Resistin  \\\n",
      "0   48  23.500000       70    2.707  0.467409   8.8071     9.702400   7.99585   \n",
      "1   83  20.690495       92    3.115  0.706897   8.8438     5.429285   4.06405   \n",
      "2   82  23.124670       91    4.498  1.009651  17.9393    22.432040   9.27715   \n",
      "3   68  21.367521       77    3.226  0.612725   9.8827     7.169560  12.76600   \n",
      "4   86  21.111111       92    3.549  0.805386   6.6994     4.819240  10.57635   \n",
      "\n",
      "     MCP.1  Classification_1  Classification_2  Classification_na  \n",
      "0  417.114              True             False              False  \n",
      "1  468.786              True             False              False  \n",
      "2  554.697              True             False              False  \n",
      "3  928.220              True             False              False  \n",
      "4  773.920              True             False              False  \n"
     ]
    }
   ],
   "source": [
    "# 8. Convert Categorical to Numeric\n",
    "# Example: If column 'Gender' has 'Male'/'Female', convert it using one-hot encoding\n",
    "df_encoded = pd.get_dummies(df)  # One-hot encoding\n",
    "print(\"\\nData after encoding:\\n\", df_encoded.head())"
   ]
  },
  {
   "cell_type": "code",
   "execution_count": null,
   "id": "93febfe9-c9ad-4789-a2e9-a115040d67a0",
   "metadata": {},
   "outputs": [],
   "source": []
  }
 ],
 "metadata": {
  "kernelspec": {
   "display_name": "Python 3 (ipykernel)",
   "language": "python",
   "name": "python3"
  },
  "language_info": {
   "codemirror_mode": {
    "name": "ipython",
    "version": 3
   },
   "file_extension": ".py",
   "mimetype": "text/x-python",
   "name": "python",
   "nbconvert_exporter": "python",
   "pygments_lexer": "ipython3",
   "version": "3.12.7"
  }
 },
 "nbformat": 4,
 "nbformat_minor": 5
}
