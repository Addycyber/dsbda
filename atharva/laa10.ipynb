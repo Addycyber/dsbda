{
 "cells": [
  {
   "cell_type": "code",
   "execution_count": null,
   "id": "5d82decf-36ec-4bec-a34a-219676f9f344",
   "metadata": {},
   "outputs": [],
   "source": [
    "import numpy as np\n",
    "import pandas as pd\n",
    "df = pd.read_csv(\"Iris.csv\")\n",
    "df.head()\n",
    "column = len(list(df))\n",
    "df.info()\n",
    "np.unique(df[\"Species\"])\n",
    "df.describe()\n",
    "\n",
    "import seaborn as sns\n",
    "import matplotlib.pyplot as plt\n",
    "%matplotlib inline\n",
    "\n",
    "fig, axes = plt.subplots(2, 2, figsize=(16, 8))\n",
    "axes[0,0].set_title(\"Distribution of First Column\")\n",
    "axes[0,0].hist(df[\"SepalLengthCm\"]);\n",
    "axes[0,1].set_title(\"Distribution of Second Column\")\n",
    "axes[0,1].hist(df[\"SepalWidthCm\"]);\n",
    "axes[1,0].set_title(\"Distribution of Third Column\")\n",
    "axes[1,0].hist(df[\"PetalLengthCm\"]);\n",
    "axes[1,1].set_title(\"Distribution of Fourth Column\")\n",
    "axes[1,1].hist(df[\"PetalWidthCm\"]);\n",
    "\n",
    "data_to_plot = [df[\"SepalLengthCm\"],df[\"SepalWidthCm\"],df[\"PetalLengthCm\"],df[\"PetalWidthCm\"]]\n",
    "sns.set_style(\"whitegrid\")\n",
    "fig = plt.figure(1, figsize=(12,8))\n",
    "ax = fig.add_subplot(111)\n",
    "bp = ax.boxplot(data_to_plot);\n"
   ]
  }
 ],
 "metadata": {
  "kernelspec": {
   "display_name": "",
   "name": ""
  },
  "language_info": {
   "name": ""
  }
 },
 "nbformat": 4,
 "nbformat_minor": 5
}
