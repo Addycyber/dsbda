{
 "cells": [
  {
   "cell_type": "code",
   "execution_count": null,
   "id": "2cf498fc-a67a-441d-b15f-b29c69f4f832",
   "metadata": {},
   "outputs": [],
   "source": [
    "import numpy as np\n",
    "import pandas as pd\n",
    "import matplotlib.pyplot as plt\n",
    "import seaborn as sns\n",
    "from seaborn import load_dataset\n",
    "\n",
    "data = pd.read_csv(\"titanic_train.csv\")\n",
    "tips = load_dataset(\"tips\")\n",
    "\n",
    "sns.countplot(data['Survived'])\n",
    "plt.show()\n",
    "\n",
    "data['Sex'].value_counts().plot(kind=\"pie\", autopct=\"%.2f\")\n",
    "plt.show()\n",
    "\n",
    "plt.hist(data['Age'], bins=5)\n",
    "plt.show()\n",
    "\n",
    "sns.distplot(data['Age'])\n",
    "plt.show()\n",
    "\n",
    "sns.scatterplot(tips[\"total_bill\"], tips[\"tip\"])\n",
    "sns.scatterplot(tips[\"total_bill\"], tips[\"tip\"], hue=tips[\"sex\"])\n",
    "sns.scatterplot(tips[\"total_bill\"], tips[\"tip\"], hue=tips[\"sex\"], style=tips['smoker'])\n",
    "plt.show()\n",
    "\n",
    "sns.barplot(data['Pclass'], data['Age'])\n",
    "plt.show()\n",
    "\n",
    "sns.barplot(data['Pclass'], data['Fare'], hue=data[\"Sex\"])\n",
    "plt.show()\n",
    "\n",
    "sns.boxplot(data['Sex'], data[\"Age\"])\n",
    "sns.boxplot(data['Sex'], data[\"Age\"], data[\"Survived\"])\n",
    "plt.show()\n",
    "\n",
    "sns.distplot(data[data['Survived'] == 0]['Age'], hist=False, color=\"blue\")\n",
    "sns.distplot(data[data['Survived'] == 1]['Age'], hist=False, color=\"orange\")\n",
    "plt.show()\n",
    "\n",
    "pd.crosstab(data['Pclass'], data['Survived'])\n",
    "sns.heatmap(pd.crosstab(data['Pclass'], data['Survived']))\n",
    "sns.clustermap(pd.crosstab(data['Parch'], data['Survived']))\n",
    "plt.show()\n"
   ]
  }
 ],
 "metadata": {
  "kernelspec": {
   "display_name": "Python 3 (ipykernel)",
   "language": "python",
   "name": "python3"
  },
  "language_info": {
   "codemirror_mode": {
    "name": "ipython",
    "version": 3
   },
   "file_extension": ".py",
   "mimetype": "text/x-python",
   "name": "python",
   "nbconvert_exporter": "python",
   "pygments_lexer": "ipython3",
   "version": "3.12.7"
  }
 },
 "nbformat": 4,
 "nbformat_minor": 5
}
