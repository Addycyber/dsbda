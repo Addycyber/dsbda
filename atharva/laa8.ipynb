{
 "cells": [
  {
   "cell_type": "code",
   "execution_count": null,
   "id": "0b348f5c-2c04-4806-ae2e-7213833d2ebf",
   "metadata": {},
   "outputs": [],
   "source": [
    "pip install seaborn\n",
    "\n",
    "import pandas as pd\n",
    "import numpy as np\n",
    "import matplotlib.pyplot as plt\n",
    "import seaborn as sns\n",
    "\n",
    "dataset = sns.load_dataset('titanic')\n",
    "dataset.head()\n",
    "\n",
    "sns.distplot(dataset['fare'])\n",
    "sns.distplot(dataset['fare'], kde=False)\n",
    "sns.distplot(dataset['fare'], kde=False, bins=10)\n",
    "\n",
    "sns.jointplot(x='age', y='fare', data=dataset)\n",
    "sns.jointplot(x='age', y='fare', data=dataset, kind='hex')\n",
    "\n",
    "dataset = dataset.dropna()\n",
    "sns.pairplot(dataset, hue='sex')\n",
    "\n",
    "sns.rugplot(dataset['fare'])\n"
   ]
  }
 ],
 "metadata": {
  "kernelspec": {
   "display_name": "Python 3 (ipykernel)",
   "language": "python",
   "name": "python3"
  },
  "language_info": {
   "codemirror_mode": {
    "name": "ipython",
    "version": 3
   },
   "file_extension": ".py",
   "mimetype": "text/x-python",
   "name": "python",
   "nbconvert_exporter": "python",
   "pygments_lexer": "ipython3",
   "version": "3.12.7"
  }
 },
 "nbformat": 4,
 "nbformat_minor": 5
}
